{
 "cells": [
  {
   "cell_type": "markdown",
   "metadata": {},
   "source": [
    "# Fahrenheit to Celsius Function"
   ]
  },
  {
   "cell_type": "markdown",
   "metadata": {},
   "source": [
    "Given three values - Start Fahrenheit Value (S), End Fahrenheit value (E) and Step Size (W), you need to convert all Fahrenheit values from Start to End at the gap of W, into their corresponding Celsius values and print the table.\n",
    "\n",
    "Input Format :\n",
    "3 integers - S, E and W respectively\n",
    "\n",
    "Output Format :\n",
    "Fahrenheit to Celsius conversion table. One line for every Fahrenheit and Celsius Fahrenheit value. Fahrenheit value and its corresponding Celsius value should be separate by tab (\"\\t\")\n",
    "\n",
    "Constraints :\n",
    "0 <= S <= 1000\n",
    "\n",
    "0 <= E <= 1000\n",
    "\n",
    "0 <= W <= 1000\n",
    "\n",
    "Sample Input 1:\n",
    "\n",
    "0 \n",
    "\n",
    "100 \n",
    "\n",
    "20\n",
    "\n",
    "Sample Output 1:\n",
    "\n",
    "0   -17\n",
    "\n",
    "20  -6\n",
    "\n",
    "40  4\n",
    "\n",
    "60  15\n",
    "\n",
    "80  26\n",
    "\n",
    "100 37\n",
    "\n",
    "Sample Input 2:\n",
    "\n",
    "120 \n",
    "\n",
    "200 \n",
    "\n",
    "40\n",
    "\n",
    "Sample Output 2:\n",
    "\n",
    "120 48\n",
    "\n",
    "160 71\n",
    "\n",
    "200 93\n",
    "\n",
    "Explanation for Sample Output 2 :\n",
    "\n",
    "Start value is 120, end value is 200 and step size is 40. Therefore, the values we need to convert are 120, 120 + 40 = 160, and 160 + 40 = 200. \n",
    "The formula for converting Fahrenheit to Celsius is:\n",
    "Celsius Value = (5/9)*(Fahrenheit Value - 32)  \n",
    "Plugging 120 into the formula, the celsius value will be (5 / 9)*(120 - 32) => (5 / 9) * 88 => (5 * 88) / 9 => 440 / 9 => 48.88\n",
    "But we'll only print 48 because we are only interested in the integral part of the value."
   ]
  },
  {
   "cell_type": "code",
   "execution_count": null,
   "metadata": {},
   "outputs": [],
   "source": [
    "def printTable(start,end,step):\n",
    "    while start<=end:\n",
    "        c=((start-32)*5)/9\n",
    "        print(str(start),int(c))\n",
    "        start+=step\n",
    "    return c\n",
    "\n",
    "\t   \n",
    "s = int(input())\n",
    "e = int(input())\n",
    "step = int(input())\n",
    "printTable(s,e,step)"
   ]
  }
 ],
 "metadata": {
  "kernelspec": {
   "display_name": "Python 3",
   "language": "python",
   "name": "python3"
  },
  "language_info": {
   "codemirror_mode": {
    "name": "ipython",
    "version": 3
   },
   "file_extension": ".py",
   "mimetype": "text/x-python",
   "name": "python",
   "nbconvert_exporter": "python",
   "pygments_lexer": "ipython3",
   "version": "3.8.5"
  }
 },
 "nbformat": 4,
 "nbformat_minor": 4
}
