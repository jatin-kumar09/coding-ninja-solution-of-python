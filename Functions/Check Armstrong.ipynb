{
 "cells": [
  {
   "cell_type": "markdown",
   "metadata": {},
   "source": [
    "# Check Armstrong"
   ]
  },
  {
   "cell_type": "markdown",
   "metadata": {},
   "source": [
    "Write a Program to determine if the given number is Armstrong number or not. Print true if number is armstrong, otherwise print false.\n",
    "\n",
    "An Armstrong number is a number (with digits n) such that the sum of its digits raised to nth power is equal to the number itself.\n",
    "\n",
    "For example,\n",
    "\n",
    "371, as 3^3 + 7^3 + 1^3 = 371\n",
    "\n",
    "1634, as 1^4 + 6^4 + 3^4 + 4^4 = 1634\n",
    "\n",
    "Input Format :\n",
    "Integer n\n",
    "\n",
    "Output Format :\n",
    "true or false"
   ]
  },
  {
   "cell_type": "code",
   "execution_count": null,
   "metadata": {},
   "outputs": [],
   "source": [
    "num=int(input())\n",
    "sum=0\n",
    "temp=sum\n",
    "while temp>0:\n",
    "    digit=temp%10\n",
    "    sum+=digit**len(len(str(num)))\n",
    "    temp//=10\n",
    "    \n",
    "if num==sum:\n",
    "    print(\"true\")\n",
    "else:\n",
    "    print(\"false\")"
   ]
  }
 ],
 "metadata": {
  "kernelspec": {
   "display_name": "Python 3",
   "language": "python",
   "name": "python3"
  },
  "language_info": {
   "codemirror_mode": {
    "name": "ipython",
    "version": 3
   },
   "file_extension": ".py",
   "mimetype": "text/x-python",
   "name": "python",
   "nbconvert_exporter": "python",
   "pygments_lexer": "ipython3",
   "version": "3.8.5"
  }
 },
 "nbformat": 4,
 "nbformat_minor": 4
}
