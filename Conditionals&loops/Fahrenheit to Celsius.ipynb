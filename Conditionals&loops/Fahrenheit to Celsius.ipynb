{
 "cells": [
  {
   "cell_type": "markdown",
   "metadata": {},
   "source": [
    "# Fahrenheit to Celsius"
   ]
  },
  {
   "cell_type": "markdown",
   "metadata": {},
   "source": [
    "Given three values - Start Fahrenheit Value (S), End Fahrenheit value (E) and Step Size (W), you need to convert all Fahrenheit values from Start to End at the gap of W, into their corresponding Celsius values and print the table.\n",
    "\n",
    "Input Format :\n",
    "\n",
    "3 integers - S, E and W respectively \n",
    "\n",
    "Output Format :\n",
    "\n",
    "Fahrenheit to Celsius conversion table. One line for every Fahrenheit and corresponding Celsius value. On Fahrenheit value and its corresponding Celsius value should be separate by tab (\"\\t\")\n",
    "\n",
    "Constraints :\n",
    "\n",
    "0 <= S <= 80\n",
    "\n",
    "S <= E <=  900\n",
    "\n",
    "0 <= W <= 40 \n",
    "\n",
    "Sample Input 1:\n",
    "\n",
    "0 \n",
    "\n",
    "100 \n",
    "\n",
    "20\n",
    "\n",
    "Sample Output 1:\n",
    "\n",
    "0   -17\n",
    "\n",
    "20  -6\n",
    "\n",
    "40  4\n",
    "\n",
    "60  15\n",
    "\n",
    "80  26\n",
    "\n",
    "100 37\n",
    "\n",
    "Sample Input 2:\n",
    "\n",
    "20\n",
    "\n",
    "119\n",
    "\n",
    "13\n",
    "\n",
    "Sample Output 2:\n",
    "\n",
    "20  -6\n",
    "\n",
    "33  0 \n",
    "\n",
    "46  7\n",
    "\n",
    "59  15\n",
    "\n",
    "72  22\n",
    "\n",
    "85  29\n",
    "\n",
    "98  36\n",
    "\n",
    "111 43\n",
    "\n",
    "Explanation For Input 2:\n",
    "\n",
    "We need need to start calculating the Celsius values for each of the Fahrenheit Value which starts from 20. So starting from 20 which is the given Fahrenheit start value, we need to compute its corresponding Celsius value which computes to -6. We print this information as <Fahrenheit Value> a tab space\"\\t\" <Celsius Value> on each line for each step of 13 we take to get the next value of Fahrenheit and extend this idea till we reach the end that is till 119 in this case. You may or may not exactly land on the end value depending on the steps you are taking."
   ]
  },
  {
   "cell_type": "code",
   "execution_count": null,
   "metadata": {},
   "outputs": [],
   "source": [
    "S=int(input())\n",
    "E=int(input())\n",
    "W=int(input())\n",
    "while S<=E:\n",
    "    C=(S-32)*5/9\n",
    "    print(S,\" \",int(C))\n",
    "    S+=W"
   ]
  }
 ],
 "metadata": {
  "kernelspec": {
   "display_name": "Python 3",
   "language": "python",
   "name": "python3"
  },
  "language_info": {
   "codemirror_mode": {
    "name": "ipython",
    "version": 3
   },
   "file_extension": ".py",
   "mimetype": "text/x-python",
   "name": "python",
   "nbconvert_exporter": "python",
   "pygments_lexer": "ipython3",
   "version": "3.8.5"
  }
 },
 "nbformat": 4,
 "nbformat_minor": 4
}
