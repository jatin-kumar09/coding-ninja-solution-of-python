{
 "cells": [
  {
   "cell_type": "markdown",
   "metadata": {},
   "source": [
    "# Sum of even & odd"
   ]
  },
  {
   "cell_type": "markdown",
   "metadata": {},
   "source": [
    "Write a program to input an integer N and print the sum of all its even digits and sum of all its odd digits separately.\n",
    "\n",
    "Digits mean numbers, not the places! That is, if the given integer is \"13245\", even digits are 2 & 4 and odd digits are 1, 3 & 5.\n",
    "\n",
    "Input format :\n",
    "\n",
    "Integer N\n",
    "\n",
    "Output format :\n",
    "\n",
    "Sum_of_Even_Digits Sum_of_Odd_Digits\n",
    "(Print first even sum and then odd sum separated by space)\n",
    "\n",
    "Constraints\n",
    "\n",
    "0 <= N <= 10^8\n",
    "\n",
    "Sample Input 1:\n",
    "\n",
    "1234\n",
    "\n",
    "Sample Output 1:\n",
    "\n",
    "6 4\n",
    "\n",
    "Sample Input 2:\n",
    "\n",
    "552245\n",
    "\n",
    "Sample Output 2:\n",
    "\n",
    "8 15\n",
    "\n",
    "Explanation for Input 2:\n",
    "\n",
    "For the given input, the even digits are 2, 2 and 4 and if we take the sum of these digits it will come out to be 8(2 + 2 + 4) and similarly, if we look at the odd digits, they are, 5, 5 and 5 which makes a sum of 15(5 + 5 + 5). Hence the answer would be, 8(evenSum) <single space> 15(oddSum)"
   ]
  },
  {
   "cell_type": "code",
   "execution_count": null,
   "metadata": {},
   "outputs": [],
   "source": [
    "Sum_of_Even_Digits=0\n",
    "Sum_of_Odd_Digits=0\n",
    "n=int(input())\n",
    "while n>0:\n",
    "    r=n%10\n",
    "    if (r%2)==0:\n",
    "        Sum_of_Even_Digits+=r\n",
    "    else:\n",
    "        Sum_of_Odd_Digits+=r\n",
    "    n=n//10\n",
    "print(Sum_of_Even_Digits,\" \",Sum_of_Odd_Digits)"
   ]
  }
 ],
 "metadata": {
  "kernelspec": {
   "display_name": "Python 3",
   "language": "python",
   "name": "python3"
  },
  "language_info": {
   "codemirror_mode": {
    "name": "ipython",
    "version": 3
   },
   "file_extension": ".py",
   "mimetype": "text/x-python",
   "name": "python",
   "nbconvert_exporter": "python",
   "pygments_lexer": "ipython3",
   "version": "3.8.5"
  }
 },
 "nbformat": 4,
 "nbformat_minor": 4
}
