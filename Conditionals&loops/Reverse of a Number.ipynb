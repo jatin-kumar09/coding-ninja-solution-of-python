{
 "cells": [
  {
   "cell_type": "markdown",
   "metadata": {},
   "source": [
    "# Reverse of a number"
   ]
  },
  {
   "cell_type": "markdown",
   "metadata": {},
   "source": [
    "Write a program to generate the reverse of a given number N. Print the corresponding reverse number.\n",
    "\n",
    "Note : If a number has trailing zeros, then its reverse will not include them. For e.g., reverse of 10400 will be 401 instead of 00401.\n",
    "\n",
    "\n",
    "Input format :\n",
    "\n",
    "Integer N\n",
    "\n",
    "Output format :\n",
    "\n",
    "Corresponding reverse number\n",
    "\n",
    "Constraints:\n",
    "0 <= N < 10^8\n",
    "\n",
    "Sample Input 1 :\n",
    "\n",
    "1234\n",
    "\n",
    "Sample Output 1 :\n",
    "\n",
    "4321\n",
    "\n",
    "Sample Input 2 :\n",
    "\n",
    "1980\n",
    "\n",
    "Sample Output 2 :\n",
    "\n",
    "891"
   ]
  },
  {
   "cell_type": "code",
   "execution_count": null,
   "metadata": {},
   "outputs": [],
   "source": [
    "def reverse(n):\n",
    "    result=0\n",
    "    while n>0:\n",
    "        a=n%10\n",
    "        result=result*10+a\n",
    "        n=n//10\n",
    "    return result\n",
    "\n",
    "n=int(input())\n",
    "result=reverse(n)\n",
    "print(result)"
   ]
  }
 ],
 "metadata": {
  "kernelspec": {
   "display_name": "Python 3",
   "language": "python",
   "name": "python3"
  },
  "language_info": {
   "codemirror_mode": {
    "name": "ipython",
    "version": 3
   },
   "file_extension": ".py",
   "mimetype": "text/x-python",
   "name": "python",
   "nbconvert_exporter": "python",
   "pygments_lexer": "ipython3",
   "version": "3.8.5"
  }
 },
 "nbformat": 4,
 "nbformat_minor": 4
}
