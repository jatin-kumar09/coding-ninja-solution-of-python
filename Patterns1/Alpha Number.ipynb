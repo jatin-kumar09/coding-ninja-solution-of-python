{
 "cells": [
  {
   "cell_type": "markdown",
   "metadata": {},
   "source": [
    "# Alpha Pattern"
   ]
  },
  {
   "cell_type": "code",
   "execution_count": null,
   "metadata": {},
   "outputs": [],
   "source": [
    "Print the following pattern for the given N number of rows.\n",
    "\n",
    "Pattern for N = 3\n",
    "A\n",
    "BB\n",
    "CCC\n",
    "\n",
    "Input format :\n",
    "Integer N (Total no. of rows)\n",
    "\n",
    "Output format :\n",
    "Pattern in N lines\n",
    "\n",
    "Constraints\n",
    "0 <= N <= 26\n",
    "\n",
    "Sample Input 1:\n",
    "7\n",
    "\n",
    "Sample Output 1:\n",
    "A\n",
    "BB\n",
    "CCC\n",
    "DDDD\n",
    "EEEEE\n",
    "FFFFFF\n",
    "GGGGGGG\n",
    "\n",
    "Sample Input 2:\n",
    "6\n",
    "\n",
    "Sample Output 2:\n",
    "A\n",
    "BB\n",
    "CCC\n",
    "DDDD\n",
    "EEEEE\n",
    "FFFFFF"
   ]
  },
  {
   "cell_type": "code",
   "execution_count": null,
   "metadata": {},
   "outputs": [],
   "source": [
    "n = int(input())\n",
    "for i in range(n):\n",
    "    start = chr(ord('A') + i)\n",
    "    for j in range(i+1):\n",
    "        print(start, end=\"\")\n",
    "    print()"
   ]
  }
 ],
 "metadata": {
  "kernelspec": {
   "display_name": "Python 3",
   "language": "python",
   "name": "python3"
  },
  "language_info": {
   "codemirror_mode": {
    "name": "ipython",
    "version": 3
   },
   "file_extension": ".py",
   "mimetype": "text/x-python",
   "name": "python",
   "nbconvert_exporter": "python",
   "pygments_lexer": "ipython3",
   "version": "3.8.5"
  }
 },
 "nbformat": 4,
 "nbformat_minor": 4
}
