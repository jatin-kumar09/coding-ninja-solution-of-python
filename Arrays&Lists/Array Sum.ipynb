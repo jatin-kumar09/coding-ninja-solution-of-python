{
 "cells": [
  {
   "cell_type": "markdown",
   "metadata": {},
   "source": [
    "# Array Sum"
   ]
  },
  {
   "cell_type": "markdown",
   "metadata": {},
   "source": [
    "Given an array of length N, you need to find and print the sum of all elements of the array.\n",
    "\n",
    "Input Format :\n",
    "\n",
    "Line 1 : An Integer N i.e. size of array\n",
    "Line 2 : N integers which are elements of the array, separated by spaces\n",
    "\n",
    "Output Format :\n",
    "\n",
    "Sum\n",
    "\n",
    "Constraints :\n",
    "\n",
    "1 <= N <= 10^6\n",
    "\n",
    "Sample Input :\n",
    "\n",
    "3\n",
    "9 8 9\n",
    "\n",
    "Sample Output :\n",
    "\n",
    "26"
   ]
  },
  {
   "cell_type": "code",
   "execution_count": null,
   "metadata": {},
   "outputs": [],
   "source": [
    "n=int(input())\n",
    "li=[int(x) for x in input().split()]\n",
    "sum=0\n",
    "for i in range(n):\n",
    "    sum+=li[i]\n",
    "\n",
    "print(sum)"
   ]
  }
 ],
 "metadata": {
  "kernelspec": {
   "display_name": "Python 3",
   "language": "python",
   "name": "python3"
  },
  "language_info": {
   "codemirror_mode": {
    "name": "ipython",
    "version": 3
   },
   "file_extension": ".py",
   "mimetype": "text/x-python",
   "name": "python",
   "nbconvert_exporter": "python",
   "pygments_lexer": "ipython3",
   "version": "3.8.5"
  }
 },
 "nbformat": 4,
 "nbformat_minor": 4
}
