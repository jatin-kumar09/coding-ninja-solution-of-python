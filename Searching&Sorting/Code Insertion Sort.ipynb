{
 "cells": [
  {
   "cell_type": "markdown",
   "metadata": {},
   "source": [
    "# Code Insertion Sort"
   ]
  },
  {
   "cell_type": "code",
   "execution_count": null,
   "metadata": {},
   "outputs": [],
   "source": [
    "Provided with a random integer array/list(ARR) of size N, you have been required to sort this array using 'Insertion Sort'.\n",
    " Note:\n",
    "Change in the input array/list itself. You don't need to return or print the elements.\n",
    " Input format :\n",
    "The first line contains an Integer 't' which denotes the number of test cases or queries to be run. Then the test cases follow.\n",
    "\n",
    "First line of each test case or query contains an integer 'N' representing the size of the array/list.\n",
    "\n",
    "Second line contains 'N' single space separated integers representing the elements in the array/list.\n",
    "Output Format :\n",
    "For each test case, print the elements of the array/list in sorted order separated by a single space.\n",
    "\n",
    "Output for every test case will be printed in a separate line.\n",
    "Constraints :\n",
    "1 <= t <= 10^2\n",
    "0 <= N <= 10^3\n",
    "Time Limit: 1 sec\n",
    "Sample Input 1:\n",
    "1\n",
    "7\n",
    "2 13 4 1 3 6 28\n",
    "Sample Output 1:\n",
    "1 2 3 4 6 13 28\n",
    "Sample Input 2:\n",
    "2\n",
    "5\n",
    "9 3 6 2 0\n",
    "4\n",
    "4 3 2 1\n",
    "Sample Output 2:\n",
    "0 2 3 6 9\n",
    "1 2 3 4 "
   ]
  },
  {
   "cell_type": "code",
   "execution_count": null,
   "metadata": {},
   "outputs": [],
   "source": [
    "def insertsort(list):\n",
    "    length=len(list)\n",
    "    for i in range(1,length):\n",
    "        j=i-1\n",
    "        temp=list[i]\n",
    "        while(j>=0 and list[j]>temp):\n",
    "            list[j+1]=list[j]\n",
    "            j=j-1\n",
    "        list[j+1]=temp\n",
    "t=int(input())\n",
    "for i in range(t):\n",
    "    n=int(input())\n",
    "    if n!=0:\n",
    "        arr=[int(x) for x in input().split()]\n",
    "    else:\n",
    "        break\n",
    "    insertsort(arr)\n",
    "    print(*arr,\" \")"
   ]
  }
 ],
 "metadata": {
  "kernelspec": {
   "display_name": "Python 3",
   "language": "python",
   "name": "python3"
  },
  "language_info": {
   "codemirror_mode": {
    "name": "ipython",
    "version": 3
   },
   "file_extension": ".py",
   "mimetype": "text/x-python",
   "name": "python",
   "nbconvert_exporter": "python",
   "pygments_lexer": "ipython3",
   "version": "3.8.5"
  }
 },
 "nbformat": 4,
 "nbformat_minor": 4
}
