{
 "cells": [
  {
   "cell_type": "markdown",
   "metadata": {},
   "source": [
    "# Code Merge Two Sorted Arrays"
   ]
  },
  {
   "cell_type": "code",
   "execution_count": null,
   "metadata": {},
   "outputs": [],
   "source": [
    "You have been given two sorted arrays/lists(ARR1 and ARR2) of size N and M respectively, merge them into a third array/list such that the third array is also sorted.\n",
    "Input Format :\n",
    "The first line contains an Integer 't' which denotes the number of test cases or queries to be run. Then the test cases follow.\n",
    "\n",
    "First line of each test case or query contains an integer 'N' representing the size of the first array/list.\n",
    "\n",
    "Second line contains 'N' single space separated integers representing the elements of the first array/list.\n",
    "\n",
    "Third line contains an integer 'M' representing the size of the second array/list.\n",
    "\n",
    "Fourth line contains 'M' single space separated integers representing the elements of the second array/list.\n",
    "Output Format :\n",
    "For each test case, print the sorted array/list(of size N + M) in a single row, separated by a single space.\n",
    "\n",
    "Output for every test case will be printed in a separate line.\n",
    "Constraints :\n",
    "1 <= t <= 10^2\n",
    "0 <= N <= 10^5\n",
    "0 <= M <= 10^5\n",
    "Time Limit: 1 sec \n",
    "Sample Input 1 :\n",
    "1\n",
    "5\n",
    "1 3 4 7 11\n",
    "4\n",
    "2 4 6 13\n",
    "Sample Output 1 :\n",
    "1 2 3 4 4 6 7 11 13 \n",
    "Sample Input 2 :\n",
    "2\n",
    "3\n",
    "10 100 500\n",
    "7\n",
    "4 7 9 25 30 300 450\n",
    "4\n",
    "7 45 89 90\n",
    "0\n",
    "Sample Output 2 :\n",
    "4 7 9 10 25 30 100 300 450 500\n",
    "7 45 89 90"
   ]
  },
  {
   "cell_type": "code",
   "execution_count": null,
   "metadata": {},
   "outputs": [],
   "source": [
    "def mergesort(arr1, arr2):\n",
    "    i = 0\n",
    "    j = 0\n",
    "    len1 = len(arr1)\n",
    "    len2 = len(arr2)\n",
    "    arr = []\n",
    "    while ((i < len1) and (j < len2)):\n",
    "        if (arr1[i] < arr2[j]):\n",
    "            arr.append(arr1[i])\n",
    "            i += 1\n",
    "        else:\n",
    "            arr.append(arr2[j])\n",
    "            j += 1\n",
    "    while (i < len1):\n",
    "        arr.append(arr1[i])\n",
    "        i += 1\n",
    "    while (j < len2):\n",
    "        arr.append(arr2[j])\n",
    "        j += 1\n",
    "    return arr\n",
    "\n",
    "\n",
    "loop = int(input())\n",
    "for l in range(loop):\n",
    "    arr1 = []\n",
    "    arr2 = []\n",
    "    n1=int(input())\n",
    "    if n1!=0:\n",
    "        arr1=[int(x) for x in input().split()]\n",
    "    n2=int(input())\n",
    "    if n2!=0:\n",
    "        arr2=[int(y) for y in input().split()]\n",
    "    arr=mergesort(arr1,arr2)"
   ]
  }
 ],
 "metadata": {
  "kernelspec": {
   "display_name": "Python 3",
   "language": "python",
   "name": "python3"
  },
  "language_info": {
   "codemirror_mode": {
    "name": "ipython",
    "version": 3
   },
   "file_extension": ".py",
   "mimetype": "text/x-python",
   "name": "python",
   "nbconvert_exporter": "python",
   "pygments_lexer": "ipython3",
   "version": "3.8.5"
  }
 },
 "nbformat": 4,
 "nbformat_minor": 4
}
