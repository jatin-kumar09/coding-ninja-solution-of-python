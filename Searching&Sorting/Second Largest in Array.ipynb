{
 "cells": [
  {
   "cell_type": "markdown",
   "metadata": {},
   "source": [
    "# Second Largest in array"
   ]
  },
  {
   "cell_type": "code",
   "execution_count": null,
   "metadata": {},
   "outputs": [],
   "source": [
    "You have been given a random integer array/list(ARR) of size N. You are required to find and return the second largest element present in the array/list.\n",
    "If N <= 1 or all the elements are same in the array/list then return -2147483648 or -2 ^ 31(It is the smallest value for the range of Integer)\n",
    "Input format :\n",
    "The first line contains an Integer 't' which denotes the number of test cases or queries to be run. Then the test cases follow.\n",
    "\n",
    "The first line of each test case or query contains an integer 'N' representing the size of the array/list.\n",
    "\n",
    "The second line contains 'N' single space separated integers representing the elements in the array/list.\n",
    "Output Format :\n",
    "For each test case, print the second largest in the array/list if exists, -2147483648 otherwise.\n",
    "\n",
    "Output for every test case will be printed in a separate line.\n",
    "Constraints :\n",
    "1 <= t <= 10^2\n",
    "0 <= N <= 10^5\n",
    "\n",
    "Time Limit: 1 sec\n",
    "Sample Input 1:\n",
    "1\n",
    "7\n",
    "2 13 4 1 3 6 28\n",
    "Sample Output 1:\n",
    "13\n",
    "Sample Input 2:\n",
    "1\n",
    "5\n",
    "9 3 6 2 9\n",
    "Sample Output 2:\n",
    "6\n",
    "Sample Input 3:\n",
    "2\n",
    "2\n",
    "6 6\n",
    "4\n",
    "90 8 90 5\n",
    "Sample Output 3:\n",
    "-2147483648\n",
    "8"
   ]
  },
  {
   "cell_type": "code",
   "execution_count": null,
   "metadata": {},
   "outputs": [],
   "source": [
    "t=int(input())\n",
    "for i in range(t):\n",
    "    arr=[]\n",
    "    n=int(input())\n",
    "    if n!=0:\n",
    "        arr=[int(x) for x in input().split()]\n",
    "        size=len(arr)\n",
    "        first=arr.count(arr[1])\n",
    "        \n",
    "    if n<=1 or first==size:\n",
    "        print(-2147483648)\n",
    "    \n",
    "    else:\n",
    "        maxm=max(arr)\n",
    "        maxcount=arr.count(maxm)\n",
    "        for i in range(maxcount):\n",
    "            arr.remove(maxm)\n",
    "            arr.sort()\n",
    "        print(arr[-1])\n",
    "    "
   ]
  }
 ],
 "metadata": {
  "kernelspec": {
   "display_name": "Python 3",
   "language": "python",
   "name": "python3"
  },
  "language_info": {
   "codemirror_mode": {
    "name": "ipython",
    "version": 3
   },
   "file_extension": ".py",
   "mimetype": "text/x-python",
   "name": "python",
   "nbconvert_exporter": "python",
   "pygments_lexer": "ipython3",
   "version": "3.8.5"
  }
 },
 "nbformat": 4,
 "nbformat_minor": 4
}
