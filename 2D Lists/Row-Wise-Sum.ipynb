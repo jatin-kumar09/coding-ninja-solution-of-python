{
 "cells": [
  {
   "cell_type": "markdown",
   "metadata": {},
   "source": [
    "# Row Wise Sum"
   ]
  },
  {
   "cell_type": "code",
   "execution_count": null,
   "metadata": {},
   "outputs": [],
   "source": [
    "For a given two-dimensional integer array/list of size (N x M), find and print the sum of each of the row elements in a single line, separated by a single space.\n",
    "Input Format :\n",
    "The first line contains an Integer 't' which denotes the number of test cases or queries to be run. Then the test cases follow.\n",
    "\n",
    "First line of each test case or query contains two integer values, 'N' and 'M', separated by a single space. They represent the 'rows' and 'columns' respectively, for the two-dimensional array/list.\n",
    "\n",
    "Second line onwards, the next 'N' lines or rows represent the ith row values.\n",
    "\n",
    "Each of the ith row constitutes 'M' column values separated by a single space.\n",
    "Output Format :\n",
    "For each test case, print the sum of every ith row elements in a single line separated by a single space.\n",
    "\n",
    "Output for every test case will be printed in a seperate line.\n",
    "Constraints :\n",
    "1 <= t <= 10^2\n",
    "0 <= N <= 10^3\n",
    "0 <= M <= 10^3\n",
    "Time Limit: 1sec\n",
    "Sample Input 1:\n",
    "1\n",
    "4 2 \n",
    "1 2 \n",
    "3 4 \n",
    "5 6 \n",
    "7 8\n",
    "Sample Output 1:\n",
    "3 7 11 15 \n",
    "Sample Input 2:\n",
    "2\n",
    "2 5 \n",
    "4 5 3 2 6 \n",
    "7 5 3 8 9\n",
    "4 4\n",
    "1 2 3 4\n",
    "9 8 7 6\n",
    "3 4 5 6\n",
    "-1 1 -10 5\n",
    "Sample Output 2:\n",
    "20 32 \n",
    "10 30 18 -5 "
   ]
  },
  {
   "cell_type": "code",
   "execution_count": null,
   "metadata": {},
   "outputs": [],
   "source": [
    "def spiralPrint(arr): \n",
    "    rows = len(arr) \n",
    "    cols = len(arr[0]) \n",
    "    startRow, startCol, endRow, endCol = 0, 0, rows-1, cols-1\n",
    "    while startRow<=endRow and startCol<=endCol:\n",
    "        # Print startRow \n",
    "        for j in range(startCol, endCol+1): \n",
    "            print(arr[startRow][j], end=' ')\n",
    "        startRow += 1\n",
    "        if startRow>endRow or startCol>endCol: \n",
    "            break \n",
    "        # Print endCol \n",
    "        for i in range(startRow, endRow+1): \n",
    "            print(arr[i][endCol], end=' ') \n",
    "        endCol -= 1 \n",
    "        if startRow>endRow or startCol>endCol: \n",
    "            break \n",
    "        for j in range(endCol, startCol-1, -1):\n",
    "            print(arr[endRow][j], end=' ')\n",
    "        endRow -= 1 \n",
    "        if startRow>endRow or startCol>endCol:\n",
    "            break \n",
    "        # Print startCol \n",
    "        for i in range(endRow, startRow-1, -1): \n",
    "            print(arr[i][startCol], end=' ') \n",
    "        startCol += 1 \n",
    "l=[int(i) for i in input().strip().split(' ')] \n",
    "m, n=l[0], l[1]\n",
    "arr = [ [ l[(j*n)+i+2] for i in range(n)] for j in range(m)] \n",
    "spiralPrint(arr)"
   ]
  }
 ],
 "metadata": {
  "kernelspec": {
   "display_name": "Python 3",
   "language": "python",
   "name": "python3"
  },
  "language_info": {
   "codemirror_mode": {
    "name": "ipython",
    "version": 3
   },
   "file_extension": ".py",
   "mimetype": "text/x-python",
   "name": "python",
   "nbconvert_exporter": "python",
   "pygments_lexer": "ipython3",
   "version": "3.8.5"
  }
 },
 "nbformat": 4,
 "nbformat_minor": 4
}
