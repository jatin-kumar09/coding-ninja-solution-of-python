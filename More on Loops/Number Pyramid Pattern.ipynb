{
 "cells": [
  {
   "cell_type": "markdown",
   "metadata": {},
   "source": [
    "# Print Number Pyramid"
   ]
  },
  {
   "cell_type": "code",
   "execution_count": null,
   "metadata": {},
   "outputs": [],
   "source": [
    "Print the following pattern for a given n.\n",
    "For eg. N = 6\n",
    "123456\n",
    " 23456\n",
    "  3456\n",
    "   456\n",
    "    56\n",
    "     6\n",
    "    56\n",
    "   456\n",
    "  3456\n",
    " 23456\n",
    "123456\n",
    "Sample Input 1 :\n",
    "4\n",
    "Sample Output 1 :\n",
    "1234\n",
    " 234\n",
    "  34\n",
    "   4\n",
    "  34\n",
    " 234\n",
    "1234"
   ]
  },
  {
   "cell_type": "code",
   "execution_count": null,
   "metadata": {},
   "outputs": [],
   "source": [
    "n=int(input())\n",
    "for i in range(1,n):             ##towards down\n",
    "    for j in range(1,i):\n",
    "        print(' ',end='')\n",
    "    for k in range(i,n+1):\n",
    "        print(k,end='')\n",
    "    print()\n",
    "for i in range(n,0,-1):          ##towards up\n",
    "    for j in range(1,i):\n",
    "        print(' ',end='')\n",
    "    for k in range(i,n+1):\n",
    "        print(k,end='')\n",
    "    print()"
   ]
  }
 ],
 "metadata": {
  "kernelspec": {
   "display_name": "Python 3",
   "language": "python",
   "name": "python3"
  },
  "language_info": {
   "codemirror_mode": {
    "name": "ipython",
    "version": 3
   },
   "file_extension": ".py",
   "mimetype": "text/x-python",
   "name": "python",
   "nbconvert_exporter": "python",
   "pygments_lexer": "ipython3",
   "version": "3.8.5"
  }
 },
 "nbformat": 4,
 "nbformat_minor": 4
}
