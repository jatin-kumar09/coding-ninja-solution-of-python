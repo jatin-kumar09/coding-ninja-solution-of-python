{
 "cells": [
  {
   "cell_type": "markdown",
   "metadata": {},
   "source": [
    "# Highest Occuring Character"
   ]
  },
  {
   "cell_type": "code",
   "execution_count": null,
   "metadata": {},
   "outputs": [],
   "source": [
    "For a given a string(str), find and return the highest occurring character.\n",
    "\n",
    "Example:\n",
    "Input String: \"abcdeapapqarr\"\n",
    "Expected Output: 'a'\n",
    "\n",
    "Since 'a' has appeared four times in the string which happens to be the highest frequency character, the answer would be 'a'.\n",
    "If there are two characters in the input string with the same frequency, return the character which comes first.\n",
    "\n",
    "Consider:\n",
    "Assume all the characters in the given string to be in lowercase always.\n",
    "\n",
    "Input Format:\n",
    "The first and only line of input contains a string without any leading and trailing spaces.\n",
    "\n",
    "Output Format:\n",
    "The only line of output prints the updated string. \n",
    "\n",
    "Note:\n",
    "You are not required to print anything explicitly. It has already been taken care of.\n",
    "\n",
    "Constraints:\n",
    "0 <= N <= 10^6\n",
    "Where N is the length of the input string.\n",
    "\n",
    "Time Limit: 1 second\n",
    "\n",
    "Sample Input 1:\n",
    "abdefgbabfba\n",
    "\n",
    "Sample Output 1:\n",
    "b\n",
    "\n",
    "Sample Input 2:\n",
    "xy\n",
    "\n",
    "Sample Output 2:\n",
    "x"
   ]
  },
  {
   "cell_type": "code",
   "execution_count": null,
   "metadata": {},
   "outputs": [],
   "source": [
    "ascii_size=256\n",
    "def occuringchar(str):\n",
    "    count=[0]*ascii_size\n",
    "    max=-1\n",
    "    c=''\n",
    "    for i in str:\n",
    "        count[ord(i)]+=1\n",
    "    for i in str:\n",
    "        if max < count[ord(i)]:\n",
    "            max=count[ord(i)]\n",
    "            c=i\n",
    "            \n",
    "    return c\n",
    "\n",
    "str=input()\n",
    "print(occuringchar(str))"
   ]
  }
 ],
 "metadata": {
  "kernelspec": {
   "display_name": "Python 3",
   "language": "python",
   "name": "python3"
  },
  "language_info": {
   "codemirror_mode": {
    "name": "ipython",
    "version": 3
   },
   "file_extension": ".py",
   "mimetype": "text/x-python",
   "name": "python",
   "nbconvert_exporter": "python",
   "pygments_lexer": "ipython3",
   "version": "3.8.5"
  }
 },
 "nbformat": 4,
 "nbformat_minor": 4
}
